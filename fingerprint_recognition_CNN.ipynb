{
  "nbformat": 4,
  "nbformat_minor": 0,
  "metadata": {
    "accelerator": "GPU",
    "colab": {
      "name": "1871069_류상연_지문_2차_코드.ipynb",
      "provenance": [],
      "collapsed_sections": [],
      "authorship_tag": "ABX9TyPBMmMopQnDN/ge69Qsxsb9",
      "include_colab_link": true
    },
    "kernelspec": {
      "display_name": "Python 3",
      "name": "python3"
    },
    "language_info": {
      "name": "python"
    }
  },
  "cells": [
    {
      "cell_type": "markdown",
      "metadata": {
        "id": "view-in-github",
        "colab_type": "text"
      },
      "source": [
        "<a href=\"https://colab.research.google.com/github/Ryu0506/biometric-security/blob/main/fingerprint_recognition_CNN.ipynb\" target=\"_parent\"><img src=\"https://colab.research.google.com/assets/colab-badge.svg\" alt=\"Open In Colab\"/></a>"
      ]
    },
    {
      "cell_type": "code",
      "metadata": {
        "colab": {
          "base_uri": "https://localhost:8080/"
        },
        "id": "yCkFBnAK-pae",
        "outputId": "bbbdc614-892a-4a10-c57e-e702943134bc"
      },
      "source": [
        "# 내 드라이브 연동\n",
        "from google.colab import drive\n",
        "drive.mount('/gdrive')"
      ],
      "execution_count": null,
      "outputs": [
        {
          "output_type": "stream",
          "text": [
            "Mounted at /gdrive\n"
          ],
          "name": "stdout"
        }
      ]
    },
    {
      "cell_type": "markdown",
      "metadata": {
        "id": "WdUhuHx69JyR"
      },
      "source": [
        "###라이브러리 불러오기"
      ]
    },
    {
      "cell_type": "code",
      "metadata": {
        "id": "OzIVKfc1-thF"
      },
      "source": [
        "import numpy as np\n",
        "import pandas as pd\n",
        "import os\n",
        "from PIL import Image\n",
        "import matplotlib.pyplot as plt\n",
        "import keras\n",
        "from keras import layers\n",
        "from keras.models import Model \n",
        "from sklearn.utils import shuffle\n",
        "from sklearn.model_selection import train_test_split\n",
        "from imgaug import augmenters as iaa\n",
        "import random"
      ],
      "execution_count": null,
      "outputs": []
    },
    {
      "cell_type": "markdown",
      "metadata": {
        "id": "j4v37CKj9M_v"
      },
      "source": [
        "## 데이터 전처리"
      ]
    },
    {
      "cell_type": "markdown",
      "metadata": {
        "id": "2RMvKdZ-9OWC"
      },
      "source": [
        "### Data Augmentation"
      ]
    },
    {
      "cell_type": "code",
      "metadata": {
        "id": "3oihKFPwpxaz"
      },
      "source": [
        "def augmen(file_names, directory_path, num):\n",
        "  j = 10\n",
        "  for file_name in file_names:\n",
        "    file_path = '{}/{}'.format(directory_path, file_name)\n",
        "    image = Image.open(file_path).convert('L')\n",
        "    image = np.array(image)\n",
        "    augs = [image]*150\n",
        "\n",
        "    seq = iaa.Sequential([\n",
        "      iaa.GaussianBlur(sigma=(0,0.5)),\n",
        "      iaa.Affine(\n",
        "          scale={\"x\":(0.9, 1.1), \"y\":(0.9,1.1)},\n",
        "          translate_percent = {\"x\":(-0.1, 0.1), \"y\":(-0.1,0.1)},\n",
        "          rotate=(-30,30),\n",
        "          order=[0,1],\n",
        "          cval=255\n",
        "      )\n",
        "    ], random_order = True)\n",
        "\n",
        "    augs = seq.augment_images(augs)\n",
        "\n",
        "    for aug in augs:\n",
        "      j+=1\n",
        "      img = Image.fromarray(aug)\n",
        "      path = '{}/{}'.format(directory_path, str(num) + ' (' + str(j) + ').bmp')\n",
        "      img.save(path)"
      ],
      "execution_count": null,
      "outputs": []
    },
    {
      "cell_type": "code",
      "metadata": {
        "id": "PI7BbcLcpxLG"
      },
      "source": [
        "# Data Augmentation\n",
        "\n",
        "path = \"/gdrive/My Drive/01_finger_training\"\n",
        "for i in range(1,9):\n",
        "  directory_path = '{}/{}'.format(path, i)\n",
        "  file_names = os.listdir(directory_path)\n",
        "  augmen(file_names, directory_path, i)"
      ],
      "execution_count": null,
      "outputs": []
    },
    {
      "cell_type": "markdown",
      "metadata": {
        "id": "qK_DOzP69RmM"
      },
      "source": [
        "### Data read"
      ]
    },
    {
      "cell_type": "code",
      "metadata": {
        "id": "O61ADZgX-uar"
      },
      "source": [
        "def data_load(data_dir, width=144, height=144):\n",
        "    x_data = []\n",
        "    y_data = []\n",
        "    folder_names=['1','2','3', '4', '5', '6', '7', '8']\n",
        "\n",
        "    for folder_name in folder_names:\n",
        "        file_names = os.listdir('{}/{}'.format(data_dir, folder_name))\n",
        "        for file_name in file_names:\n",
        "            file_path = '{}/{}/{}'.format(data_dir, folder_name, file_name)\n",
        "            image = Image.open(file_path).convert('L')\n",
        "            image = image.resize((width, height))\n",
        "            numpy_image = np.array(image) #이미지 타입을 넘파이 타입으로 변환\n",
        "            x_data.append(numpy_image/255.)\n",
        "            y_data.append(int(folder_name)-1)\n",
        "    x_data = np.array(x_data)\n",
        "    y_data = np.array(y_data)\n",
        "\n",
        "    return x_data, y_data"
      ],
      "execution_count": null,
      "outputs": []
    },
    {
      "cell_type": "code",
      "metadata": {
        "id": "J4_EDog2-uyM"
      },
      "source": [
        "x_data, y_data = data_load('/gdrive/My Drive/01_finger_training')\n",
        "\n",
        "labels = ['1', '2','3','4','5','6','7','8']"
      ],
      "execution_count": null,
      "outputs": []
    },
    {
      "cell_type": "markdown",
      "metadata": {
        "id": "Rj1ld7pH9VMb"
      },
      "source": [
        "### Data 확인"
      ]
    },
    {
      "cell_type": "code",
      "metadata": {
        "colab": {
          "base_uri": "https://localhost:8080/"
        },
        "id": "4-N857jM-5Fs",
        "outputId": "1da5050d-d274-45fe-8ce7-ec9e7fe5fa68"
      },
      "source": [
        "print(x_data.shape)"
      ],
      "execution_count": null,
      "outputs": [
        {
          "output_type": "stream",
          "text": [
            "(12080, 144, 144)\n"
          ],
          "name": "stdout"
        }
      ]
    },
    {
      "cell_type": "code",
      "metadata": {
        "colab": {
          "base_uri": "https://localhost:8080/",
          "height": 282
        },
        "id": "6f6EAs8M-7k5",
        "outputId": "7ffac066-73f6-4162-f79d-62ebc9649e6b"
      },
      "source": [
        "x_data = x_data.reshape((12080, 144, 144, 1)) # Data에 channel을 추가해준다. (1: 흑백)\n",
        "print(x_data.shape, y_data.shape)\n",
        "\n",
        "# 이미지 확인\n",
        "plt.figure(figsize=(15, 10))\n",
        "plt.subplot(1, 4, 1)\n",
        "plt.title(y_data[0])\n",
        "plt.imshow(x_data[0].squeeze(), cmap='gray')"
      ],
      "execution_count": null,
      "outputs": [
        {
          "output_type": "stream",
          "text": [
            "(12080, 144, 144, 1) (12080,)\n"
          ],
          "name": "stdout"
        },
        {
          "output_type": "execute_result",
          "data": {
            "text/plain": [
              "<matplotlib.image.AxesImage at 0x7fc7e57c0e50>"
            ]
          },
          "metadata": {
            "tags": []
          },
          "execution_count": 8
        },
        {
          "output_type": "display_data",
          "data": {
            "image/png": "[encoded data removed]",
            "text/plain": [
              "<Figure size 1080x720 with 1 Axes>"
            ]
          },
          "metadata": {
            "tags": [],
            "needs_background": "light"
          }
        }
      ]
    },
    {
      "cell_type": "markdown",
      "metadata": {
        "id": "0TQrzRSE9Xtd"
      },
      "source": [
        "## Model 설계"
      ]
    },
    {
      "cell_type": "code",
      "metadata": {
        "colab": {
          "base_uri": "https://localhost:8080/"
        },
        "id": "dU3SttuJXXZt",
        "outputId": "dd1ec09a-6258-4b47-b44f-c22c5648949f"
      },
      "source": [
        "import tensorflow as tf\n",
        "import keras\n",
        "from keras import layers\n",
        "from keras.models import Model\n",
        "from keras import regularizers\n",
        "\n",
        "model = tf.keras.models.Sequential([\n",
        "  tf.keras.layers.Conv2D(32, (3,3), activation='relu', padding=\"same\", input_shape=(144, 144, 1)),\n",
        "  tf.keras.layers.BatchNormalization(),\n",
        "  tf.keras.layers.MaxPooling2D(pool_size=(2,2)),\n",
        "  tf.keras.layers.Dropout(0.5),\n",
        "  tf.keras.layers.Conv2D(32, (3,3), kernel_regularizer=regularizers.l2(l=0.01), activation='relu'),\n",
        "  tf.keras.layers.MaxPooling2D(pool_size=(2,2)),\n",
        "  tf.keras.layers.BatchNormalization(),\n",
        "  tf.keras.layers.Conv2D(64, (3,3), kernel_regularizer=regularizers.l2(l=0.01), activation='relu'),\n",
        "  tf.keras.layers.MaxPooling2D(pool_size=(2,2)),\n",
        "  tf.keras.layers.Conv2D(128, (3,3), kernel_regularizer=regularizers.l2(l=0.01), activation='relu'),\n",
        "  tf.keras.layers.MaxPooling2D(pool_size=(2,2)),\n",
        "  tf.keras.layers.Flatten(),\n",
        "  tf.keras.layers.Dropout(0.5),\n",
        "  tf.keras.layers.Dense(512, activation='relu'),\n",
        "  tf.keras.layers.Dense(8, activation='softmax')\n",
        "])\n",
        "\n",
        "model.summary()"
      ],
      "execution_count": null,
      "outputs": [
        {
          "output_type": "stream",
          "text": [
            "Model: \"sequential_15\"\n",
            "_________________________________________________________________\n",
            "Layer (type)                 Output Shape              Param #   \n",
            "=================================================================\n",
            "conv2d_60 (Conv2D)           (None, 144, 144, 32)      320       \n",
            "_________________________________________________________________\n",
            "batch_normalization_30 (Batc (None, 144, 144, 32)      128       \n",
            "_________________________________________________________________\n",
            "max_pooling2d_60 (MaxPooling (None, 72, 72, 32)        0         \n",
            "_________________________________________________________________\n",
            "dropout_30 (Dropout)         (None, 72, 72, 32)        0         \n",
            "_________________________________________________________________\n",
            "conv2d_61 (Conv2D)           (None, 70, 70, 32)        9248      \n",
            "_________________________________________________________________\n",
            "max_pooling2d_61 (MaxPooling (None, 35, 35, 32)        0         \n",
            "_________________________________________________________________\n",
            "batch_normalization_31 (Batc (None, 35, 35, 32)        128       \n",
            "_________________________________________________________________\n",
            "conv2d_62 (Conv2D)           (None, 33, 33, 64)        18496     \n",
            "_________________________________________________________________\n",
            "max_pooling2d_62 (MaxPooling (None, 16, 16, 64)        0         \n",
            "_________________________________________________________________\n",
            "conv2d_63 (Conv2D)           (None, 14, 14, 128)       73856     \n",
            "_________________________________________________________________\n",
            "max_pooling2d_63 (MaxPooling (None, 7, 7, 128)         0         \n",
            "_________________________________________________________________\n",
            "flatten_15 (Flatten)         (None, 6272)              0         \n",
            "_________________________________________________________________\n",
            "dropout_31 (Dropout)         (None, 6272)              0         \n",
            "_________________________________________________________________\n",
            "dense_30 (Dense)             (None, 512)               3211776   \n",
            "_________________________________________________________________\n",
            "dense_31 (Dense)             (None, 8)                 4104      \n",
            "=================================================================\n",
            "Total params: 3,318,056\n",
            "Trainable params: 3,317,928\n",
            "Non-trainable params: 128\n",
            "_________________________________________________________________\n"
          ],
          "name": "stdout"
        }
      ]
    },
    {
      "cell_type": "code",
      "metadata": {
        "id": "FlFEWoG8F10O"
      },
      "source": [
        "import tensorflow as tf\n",
        "import keras\n",
        "from keras import layers\n",
        "from keras.models import Model\n",
        "from keras import regularizers\n",
        "\n",
        "def create_model():\n",
        "  model = tf.keras.models.Sequential([\n",
        "    tf.keras.layers.Conv2D(32, (3,3), activation='relu', padding=\"same\", input_shape=(144, 144, 1)),\n",
        "    tf.keras.layers.BatchNormalization(),\n",
        "    tf.keras.layers.MaxPooling2D(pool_size=(2,2)),\n",
        "    tf.keras.layers.Dropout(0.5),\n",
        "    tf.keras.layers.Conv2D(32, (3,3), kernel_regularizer=regularizers.l2(l=0.01), activation='relu'),\n",
        "    tf.keras.layers.MaxPooling2D(pool_size=(2,2)),\n",
        "    tf.keras.layers.BatchNormalization(),\n",
        "    tf.keras.layers.Conv2D(64, (3,3), kernel_regularizer=regularizers.l2(l=0.01), activation='relu'),\n",
        "    tf.keras.layers.MaxPooling2D(pool_size=(2,2)),\n",
        "    tf.keras.layers.Conv2D(128, (3,3), kernel_regularizer=regularizers.l2(l=0.01), activation='relu'),\n",
        "    tf.keras.layers.MaxPooling2D(pool_size=(2,2)),\n",
        "    tf.keras.layers.Flatten(),\n",
        "    tf.keras.layers.Dropout(0.5),\n",
        "    tf.keras.layers.Dense(512, activation='relu'),\n",
        "    tf.keras.layers.Dense(8, activation='softmax')\n",
        "  ])\n",
        "\n",
        "  model.compile(optimizer='adam',\n",
        "            loss='sparse_categorical_crossentropy',\n",
        "            metrics = ['acc'])\n",
        "  \n",
        "  return model"
      ],
      "execution_count": null,
      "outputs": []
    },
    {
      "cell_type": "code",
      "metadata": {
        "id": "nMpewmZR_ETY"
      },
      "source": [
        "from keras.callbacks import EarlyStopping, ReduceLROnPlateau\n",
        "\n",
        "#조기종료\n",
        "earlystop=EarlyStopping(patience=5)\n",
        "\n",
        "#학습률 조정\n",
        "learning_rate_reduction=ReduceLROnPlateau(monitor='val_acc',\n",
        "                                          patience=2,\n",
        "                                          verbose=1,\n",
        "                                          factor=0.5,\n",
        "                                          min_lr=0.00001)\n",
        "#callback 설정\n",
        "callback=[earlystop,learning_rate_reduction]"
      ],
      "execution_count": null,
      "outputs": []
    },
    {
      "cell_type": "code",
      "metadata": {
        "id": "KehsZ5XuYNmL"
      },
      "source": [
        "# CrossValidation 적용\n",
        "\n",
        "from sklearn.model_selection import StratifiedKFold\n",
        "\n",
        "kf = StratifiedKFold(n_splits = 5, shuffle = True, random_state=1)"
      ],
      "execution_count": null,
      "outputs": []
    },
    {
      "cell_type": "code",
      "metadata": {
        "colab": {
          "base_uri": "https://localhost:8080/"
        },
        "id": "gJCJCrMZ_MPl",
        "outputId": "e145de3d-c789-43f0-9201-090198500b0f"
      },
      "source": [
        "from sklearn.metrics import accuracy_score, recall_score, precision_score, f1_score\n",
        "\n",
        "idx = 0\n",
        "all_accuracy = []\n",
        "all_precision = []\n",
        "all_recall = []\n",
        "all_f1 = []\n",
        "\n",
        "for train_index, test_index in kf.split(x_data, y_data):\n",
        "    x_train, x_test = x_data[train_index], x_data[test_index]\n",
        "    y_train, y_test = y_data[train_index], y_data[test_index]\n",
        "\n",
        "    model = create_model()\n",
        "\n",
        "    # model train\n",
        "    history = model.fit(x_train, y_train,\n",
        "                    validation_split = 0.1,\n",
        "                    epochs = 50,\n",
        "                    batch_size = 32,\n",
        "                    verbose=1,\n",
        "                    callbacks = callback\n",
        "                    )\n",
        "    \n",
        "    model.save('/gdrive/My Drive/' + 'fingerprint_' + str(idx) + '.h5')\n",
        "    idx += 1\n",
        "\n",
        "    # model 예측\n",
        "    predictions = model.predict(x_test)\n",
        "\n",
        "    y_pred = []\n",
        "    for i in range(len(predictions)):\n",
        "      p = np.argmax(predictions[i])\n",
        "      y_pred.append(p)\n",
        "    y_pred = np.array(y_pred)\n",
        "    \n",
        "    accuracy = accuracy_score(y_test, y_pred)\n",
        "    all_accuracy.append(accuracy)\n",
        "\n",
        "    precision = precision_score(y_test, y_pred, average = 'macro')\n",
        "    all_precision.append(precision)\n",
        "\n",
        "    recall = recall_score(y_test, y_pred, average = 'macro')\n",
        "    all_recall.append(recall)\n",
        "\n",
        "    f1 = f1_score(y_test, y_pred, average = 'macro')\n",
        "    all_f1.append(f1)"
      ],
      "execution_count": null,
      "outputs": [
        {
          "output_type": "stream",
          "text": [
            "Epoch 1/50\n",
            "272/272 [==============================] - 7s 24ms/step - loss: 3.2423 - acc: 0.3767 - val_loss: 3.7840 - val_acc: 0.0000e+00\n",
            "Epoch 2/50\n",
            "272/272 [==============================] - 6s 23ms/step - loss: 0.6447 - acc: 0.9394 - val_loss: 0.5718 - val_acc: 0.8800\n",
            "Epoch 3/50\n",
            "272/272 [==============================] - 6s 23ms/step - loss: 0.2805 - acc: 0.9687 - val_loss: 0.2273 - val_acc: 0.9752\n",
            "Epoch 4/50\n",
            "272/272 [==============================] - 6s 23ms/step - loss: 0.2106 - acc: 0.9680 - val_loss: 0.1880 - val_acc: 0.9648\n",
            "Epoch 5/50\n",
            "272/272 [==============================] - 6s 23ms/step - loss: 0.1212 - acc: 0.9859 - val_loss: 0.0757 - val_acc: 0.9990\n",
            "Epoch 6/50\n",
            "272/272 [==============================] - 6s 23ms/step - loss: 0.0885 - acc: 0.9908 - val_loss: 0.1814 - val_acc: 0.9504\n",
            "Epoch 7/50\n",
            "272/272 [==============================] - 6s 23ms/step - loss: 0.0924 - acc: 0.9873 - val_loss: 1.3100 - val_acc: 0.6494\n",
            "\n",
            "Epoch 00007: ReduceLROnPlateau reducing learning rate to 0.0005000000237487257.\n",
            "Epoch 8/50\n",
            "272/272 [==============================] - 6s 23ms/step - loss: 0.0801 - acc: 0.9921 - val_loss: 0.0558 - val_acc: 1.0000\n",
            "Epoch 9/50\n",
            "272/272 [==============================] - 6s 23ms/step - loss: 0.0517 - acc: 0.9956 - val_loss: 0.0434 - val_acc: 1.0000\n",
            "Epoch 10/50\n",
            "272/272 [==============================] - 6s 23ms/step - loss: 0.0414 - acc: 0.9964 - val_loss: 0.0407 - val_acc: 0.9979\n",
            "\n",
            "Epoch 00010: ReduceLROnPlateau reducing learning rate to 0.0002500000118743628.\n",
            "Epoch 11/50\n",
            "272/272 [==============================] - 6s 23ms/step - loss: 0.0362 - acc: 0.9976 - val_loss: 0.0379 - val_acc: 1.0000\n",
            "Epoch 12/50\n",
            "272/272 [==============================] - 6s 23ms/step - loss: 0.0320 - acc: 0.9979 - val_loss: 0.0310 - val_acc: 0.9990\n",
            "\n",
            "Epoch 00012: ReduceLROnPlateau reducing learning rate to 0.0001250000059371814.\n",
            "Epoch 13/50\n",
            "272/272 [==============================] - 6s 23ms/step - loss: 0.0290 - acc: 0.9990 - val_loss: 0.0371 - val_acc: 1.0000\n",
            "Epoch 14/50\n",
            "272/272 [==============================] - 6s 23ms/step - loss: 0.0273 - acc: 0.9986 - val_loss: 0.0310 - val_acc: 0.9990\n",
            "\n",
            "Epoch 00014: ReduceLROnPlateau reducing learning rate to 6.25000029685907e-05.\n",
            "Epoch 15/50\n",
            "272/272 [==============================] - 6s 23ms/step - loss: 0.0256 - acc: 0.9987 - val_loss: 0.0348 - val_acc: 1.0000\n",
            "Epoch 16/50\n",
            "272/272 [==============================] - 6s 23ms/step - loss: 0.0249 - acc: 0.9985 - val_loss: 0.0269 - val_acc: 1.0000\n",
            "\n",
            "Epoch 00016: ReduceLROnPlateau reducing learning rate to 3.125000148429535e-05.\n",
            "Epoch 17/50\n",
            "272/272 [==============================] - 6s 23ms/step - loss: 0.0227 - acc: 0.9996 - val_loss: 0.0262 - val_acc: 1.0000\n",
            "Epoch 18/50\n",
            "272/272 [==============================] - 6s 23ms/step - loss: 0.0227 - acc: 0.9993 - val_loss: 0.0329 - val_acc: 0.9990\n",
            "\n",
            "Epoch 00018: ReduceLROnPlateau reducing learning rate to 1.5625000742147677e-05.\n",
            "Epoch 19/50\n",
            "272/272 [==============================] - 6s 23ms/step - loss: 0.0247 - acc: 0.9981 - val_loss: 0.0323 - val_acc: 1.0000\n",
            "Epoch 20/50\n",
            "272/272 [==============================] - 6s 23ms/step - loss: 0.0224 - acc: 0.9989 - val_loss: 0.0260 - val_acc: 1.0000\n",
            "\n",
            "Epoch 00020: ReduceLROnPlateau reducing learning rate to 1e-05.\n",
            "Epoch 21/50\n",
            "272/272 [==============================] - 6s 23ms/step - loss: 0.0233 - acc: 0.9983 - val_loss: 0.0313 - val_acc: 1.0000\n",
            "Epoch 22/50\n",
            "272/272 [==============================] - 6s 23ms/step - loss: 0.0212 - acc: 0.9995 - val_loss: 0.0276 - val_acc: 1.0000\n",
            "Epoch 23/50\n",
            "272/272 [==============================] - 6s 23ms/step - loss: 0.0225 - acc: 0.9986 - val_loss: 0.0252 - val_acc: 1.0000\n",
            "Epoch 24/50\n",
            "272/272 [==============================] - 6s 23ms/step - loss: 0.0204 - acc: 0.9991 - val_loss: 0.0282 - val_acc: 0.9990\n",
            "Epoch 25/50\n",
            "272/272 [==============================] - 6s 23ms/step - loss: 0.0207 - acc: 0.9988 - val_loss: 0.0299 - val_acc: 1.0000\n",
            "Epoch 26/50\n",
            "272/272 [==============================] - 6s 23ms/step - loss: 0.0203 - acc: 0.9996 - val_loss: 0.0300 - val_acc: 0.9990\n",
            "Epoch 27/50\n",
            "272/272 [==============================] - 6s 23ms/step - loss: 0.0204 - acc: 0.9996 - val_loss: 0.0297 - val_acc: 0.9990\n",
            "Epoch 28/50\n",
            "272/272 [==============================] - 6s 23ms/step - loss: 0.0208 - acc: 0.9989 - val_loss: 0.0263 - val_acc: 1.0000\n",
            "WARNING:tensorflow:5 out of the last 13 calls to <function Model.make_predict_function.<locals>.predict_function at 0x7fc791abf9e0> triggered tf.function retracing. Tracing is expensive and the excessive number of tracings could be due to (1) creating @tf.function repeatedly in a loop, (2) passing tensors with different shapes, (3) passing Python objects instead of tensors. For (1), please define your @tf.function outside of the loop. For (2), @tf.function has experimental_relax_shapes=True option that relaxes argument shapes that can avoid unnecessary retracing. For (3), please refer to https://www.tensorflow.org/guide/function#controlling_retracing and https://www.tensorflow.org/api_docs/python/tf/function for  more details.\n",
            "Epoch 1/50\n",
            "272/272 [==============================] - 7s 24ms/step - loss: 3.4212 - acc: 0.2656 - val_loss: 2.6555 - val_acc: 0.0103\n",
            "Epoch 2/50\n",
            "272/272 [==============================] - 6s 23ms/step - loss: 0.6337 - acc: 0.9413 - val_loss: 0.5949 - val_acc: 0.8862\n",
            "Epoch 3/50\n",
            "272/272 [==============================] - 6s 23ms/step - loss: 0.2546 - acc: 0.9822 - val_loss: 0.4613 - val_acc: 0.8966\n",
            "Epoch 4/50\n",
            "272/272 [==============================] - 6s 23ms/step - loss: 0.1591 - acc: 0.9823 - val_loss: 0.1345 - val_acc: 0.9866\n",
            "Epoch 5/50\n",
            "272/272 [==============================] - 6s 23ms/step - loss: 0.1101 - acc: 0.9888 - val_loss: 0.1129 - val_acc: 0.9928\n",
            "Epoch 6/50\n",
            "272/272 [==============================] - 6s 23ms/step - loss: 0.0866 - acc: 0.9921 - val_loss: 0.3593 - val_acc: 0.8738\n",
            "Epoch 7/50\n",
            "272/272 [==============================] - 6s 23ms/step - loss: 0.0699 - acc: 0.9941 - val_loss: 0.0557 - val_acc: 1.0000\n",
            "Epoch 8/50\n",
            "272/272 [==============================] - 6s 23ms/step - loss: 0.0784 - acc: 0.9909 - val_loss: 0.0536 - val_acc: 1.0000\n",
            "Epoch 9/50\n",
            "272/272 [==============================] - 6s 23ms/step - loss: 0.0683 - acc: 0.9923 - val_loss: 0.0649 - val_acc: 0.9969\n",
            "\n",
            "Epoch 00009: ReduceLROnPlateau reducing learning rate to 0.0005000000237487257.\n",
            "Epoch 10/50\n",
            "272/272 [==============================] - 6s 23ms/step - loss: 0.0546 - acc: 0.9963 - val_loss: 0.0703 - val_acc: 0.9917\n",
            "Epoch 11/50\n",
            "272/272 [==============================] - 6s 23ms/step - loss: 0.0427 - acc: 0.9979 - val_loss: 0.0372 - val_acc: 1.0000\n",
            "\n",
            "Epoch 00011: ReduceLROnPlateau reducing learning rate to 0.0002500000118743628.\n",
            "Epoch 12/50\n",
            "272/272 [==============================] - 6s 23ms/step - loss: 0.0346 - acc: 0.9983 - val_loss: 0.0540 - val_acc: 0.9928\n",
            "Epoch 13/50\n",
            "272/272 [==============================] - 6s 23ms/step - loss: 0.0299 - acc: 0.9988 - val_loss: 0.0381 - val_acc: 0.9969\n",
            "\n",
            "Epoch 00013: ReduceLROnPlateau reducing learning rate to 0.0001250000059371814.\n",
            "Epoch 14/50\n",
            "272/272 [==============================] - 6s 23ms/step - loss: 0.0258 - acc: 0.9994 - val_loss: 0.0250 - val_acc: 1.0000\n",
            "Epoch 15/50\n",
            "272/272 [==============================] - 6s 23ms/step - loss: 0.0273 - acc: 0.9982 - val_loss: 0.0280 - val_acc: 1.0000\n",
            "\n",
            "Epoch 00015: ReduceLROnPlateau reducing learning rate to 6.25000029685907e-05.\n",
            "Epoch 16/50\n",
            "272/272 [==============================] - 6s 23ms/step - loss: 0.0256 - acc: 0.9985 - val_loss: 0.0291 - val_acc: 1.0000\n",
            "Epoch 17/50\n",
            "272/272 [==============================] - 6s 23ms/step - loss: 0.0213 - acc: 0.9998 - val_loss: 0.0397 - val_acc: 0.9969\n",
            "\n",
            "Epoch 00017: ReduceLROnPlateau reducing learning rate to 3.125000148429535e-05.\n",
            "Epoch 18/50\n",
            "272/272 [==============================] - 6s 23ms/step - loss: 0.0217 - acc: 0.9994 - val_loss: 0.0285 - val_acc: 1.0000\n",
            "Epoch 19/50\n",
            "272/272 [==============================] - 6s 23ms/step - loss: 0.0210 - acc: 0.9994 - val_loss: 0.0260 - val_acc: 1.0000\n",
            "\n",
            "Epoch 00019: ReduceLROnPlateau reducing learning rate to 1.5625000742147677e-05.\n",
            "Epoch 1/50\n",
            "272/272 [==============================] - 7s 24ms/step - loss: 3.0067 - acc: 0.5170 - val_loss: 1.5914 - val_acc: 0.4654\n",
            "Epoch 2/50\n",
            "272/272 [==============================] - 6s 23ms/step - loss: 0.6920 - acc: 0.9614 - val_loss: 0.5037 - val_acc: 0.9731\n",
            "Epoch 3/50\n",
            "272/272 [==============================] - 6s 23ms/step - loss: 0.3077 - acc: 0.9809 - val_loss: 0.3724 - val_acc: 0.9038\n",
            "Epoch 4/50\n",
            "272/272 [==============================] - 6s 23ms/step - loss: 0.1676 - acc: 0.9908 - val_loss: 0.1810 - val_acc: 0.9628\n",
            "\n",
            "Epoch 00004: ReduceLROnPlateau reducing learning rate to 0.0005000000237487257.\n",
            "Epoch 5/50\n",
            "272/272 [==============================] - 6s 23ms/step - loss: 0.0951 - acc: 0.9948 - val_loss: 0.1185 - val_acc: 0.9897\n",
            "Epoch 6/50\n",
            "272/272 [==============================] - 6s 23ms/step - loss: 0.0713 - acc: 0.9965 - val_loss: 0.3261 - val_acc: 0.8852\n",
            "Epoch 7/50\n",
            "272/272 [==============================] - 6s 23ms/step - loss: 0.0634 - acc: 0.9958 - val_loss: 0.0718 - val_acc: 0.9897\n",
            "\n",
            "Epoch 00007: ReduceLROnPlateau reducing learning rate to 0.0002500000118743628.\n",
            "Epoch 8/50\n",
            "272/272 [==============================] - 6s 23ms/step - loss: 0.0530 - acc: 0.9975 - val_loss: 0.0489 - val_acc: 0.9979\n",
            "Epoch 9/50\n",
            "272/272 [==============================] - 6s 23ms/step - loss: 0.0436 - acc: 0.9975 - val_loss: 0.0411 - val_acc: 0.9979\n",
            "Epoch 10/50\n",
            "272/272 [==============================] - 6s 23ms/step - loss: 0.0382 - acc: 0.9980 - val_loss: 0.0805 - val_acc: 0.9845\n",
            "\n",
            "Epoch 00010: ReduceLROnPlateau reducing learning rate to 0.0001250000059371814.\n",
            "Epoch 11/50\n",
            "272/272 [==============================] - 6s 23ms/step - loss: 0.0336 - acc: 0.9993 - val_loss: 0.0423 - val_acc: 0.9990\n",
            "Epoch 12/50\n",
            "272/272 [==============================] - 6s 23ms/step - loss: 0.0303 - acc: 0.9993 - val_loss: 0.0378 - val_acc: 1.0000\n",
            "Epoch 13/50\n",
            "272/272 [==============================] - 6s 23ms/step - loss: 0.0281 - acc: 0.9993 - val_loss: 0.0515 - val_acc: 0.9959\n",
            "Epoch 14/50\n",
            "272/272 [==============================] - 6s 23ms/step - loss: 0.0278 - acc: 0.9988 - val_loss: 0.0337 - val_acc: 1.0000\n",
            "\n",
            "Epoch 00014: ReduceLROnPlateau reducing learning rate to 6.25000029685907e-05.\n",
            "Epoch 15/50\n",
            "272/272 [==============================] - 6s 23ms/step - loss: 0.0252 - acc: 0.9990 - val_loss: 0.0305 - val_acc: 0.9990\n",
            "Epoch 16/50\n",
            "272/272 [==============================] - 6s 23ms/step - loss: 0.0246 - acc: 0.9988 - val_loss: 0.0328 - val_acc: 0.9990\n",
            "\n",
            "Epoch 00016: ReduceLROnPlateau reducing learning rate to 3.125000148429535e-05.\n",
            "Epoch 17/50\n",
            "272/272 [==============================] - 6s 23ms/step - loss: 0.0223 - acc: 0.9994 - val_loss: 0.0315 - val_acc: 0.9990\n",
            "Epoch 18/50\n",
            "272/272 [==============================] - 6s 23ms/step - loss: 0.0217 - acc: 0.9995 - val_loss: 0.0293 - val_acc: 0.9990\n",
            "\n",
            "Epoch 00018: ReduceLROnPlateau reducing learning rate to 1.5625000742147677e-05.\n",
            "Epoch 19/50\n",
            "272/272 [==============================] - 6s 23ms/step - loss: 0.0216 - acc: 0.9993 - val_loss: 0.0413 - val_acc: 0.9969\n",
            "Epoch 20/50\n",
            "272/272 [==============================] - 6s 23ms/step - loss: 0.0215 - acc: 0.9996 - val_loss: 0.0294 - val_acc: 1.0000\n",
            "\n",
            "Epoch 00020: ReduceLROnPlateau reducing learning rate to 1e-05.\n",
            "Epoch 21/50\n",
            "272/272 [==============================] - 6s 23ms/step - loss: 0.0206 - acc: 0.9995 - val_loss: 0.0260 - val_acc: 0.9990\n",
            "Epoch 22/50\n",
            "272/272 [==============================] - 6s 23ms/step - loss: 0.0225 - acc: 0.9990 - val_loss: 0.0296 - val_acc: 1.0000\n",
            "Epoch 23/50\n",
            "272/272 [==============================] - 6s 23ms/step - loss: 0.0202 - acc: 0.9997 - val_loss: 0.0300 - val_acc: 1.0000\n",
            "Epoch 24/50\n",
            "272/272 [==============================] - 6s 23ms/step - loss: 0.0204 - acc: 0.9993 - val_loss: 0.0285 - val_acc: 1.0000\n",
            "Epoch 25/50\n",
            "272/272 [==============================] - 6s 23ms/step - loss: 0.0207 - acc: 0.9990 - val_loss: 0.0246 - val_acc: 1.0000\n",
            "Epoch 26/50\n",
            "272/272 [==============================] - 6s 23ms/step - loss: 0.0201 - acc: 0.9994 - val_loss: 0.0252 - val_acc: 1.0000\n",
            "Epoch 27/50\n",
            "272/272 [==============================] - 6s 23ms/step - loss: 0.0204 - acc: 0.9993 - val_loss: 0.0327 - val_acc: 0.9990\n",
            "Epoch 28/50\n",
            "272/272 [==============================] - 6s 23ms/step - loss: 0.0202 - acc: 0.9990 - val_loss: 0.0282 - val_acc: 1.0000\n",
            "Epoch 29/50\n",
            "272/272 [==============================] - 6s 23ms/step - loss: 0.0199 - acc: 0.9994 - val_loss: 0.0205 - val_acc: 1.0000\n",
            "Epoch 30/50\n",
            "272/272 [==============================] - 6s 23ms/step - loss: 0.0192 - acc: 0.9994 - val_loss: 0.0258 - val_acc: 1.0000\n",
            "Epoch 31/50\n",
            "272/272 [==============================] - 6s 23ms/step - loss: 0.0189 - acc: 0.9995 - val_loss: 0.0302 - val_acc: 0.9990\n",
            "Epoch 32/50\n",
            "272/272 [==============================] - 6s 23ms/step - loss: 0.0186 - acc: 0.9997 - val_loss: 0.0256 - val_acc: 1.0000\n",
            "Epoch 33/50\n",
            "272/272 [==============================] - 6s 23ms/step - loss: 0.0200 - acc: 0.9990 - val_loss: 0.0269 - val_acc: 1.0000\n",
            "Epoch 34/50\n",
            "272/272 [==============================] - 6s 23ms/step - loss: 0.0182 - acc: 0.9998 - val_loss: 0.0272 - val_acc: 0.9990\n",
            "Epoch 1/50\n",
            "272/272 [==============================] - 7s 24ms/step - loss: 2.8999 - acc: 0.5109 - val_loss: 3.2805 - val_acc: 0.0000e+00\n",
            "Epoch 2/50\n",
            "272/272 [==============================] - 6s 23ms/step - loss: 0.6726 - acc: 0.9524 - val_loss: 1.2005 - val_acc: 0.3495\n",
            "Epoch 3/50\n",
            "272/272 [==============================] - 6s 23ms/step - loss: 0.3136 - acc: 0.9691 - val_loss: 0.3495 - val_acc: 0.9069\n",
            "Epoch 4/50\n",
            "272/272 [==============================] - 6s 23ms/step - loss: 0.1948 - acc: 0.9783 - val_loss: 0.1236 - val_acc: 1.0000\n",
            "Epoch 5/50\n",
            "272/272 [==============================] - 6s 23ms/step - loss: 0.1282 - acc: 0.9856 - val_loss: 0.1238 - val_acc: 0.9938\n",
            "Epoch 6/50\n",
            "272/272 [==============================] - 6s 23ms/step - loss: 0.1105 - acc: 0.9861 - val_loss: 0.1591 - val_acc: 0.9783\n",
            "\n",
            "Epoch 00006: ReduceLROnPlateau reducing learning rate to 0.0005000000237487257.\n",
            "Epoch 7/50\n",
            "272/272 [==============================] - 6s 23ms/step - loss: 0.0754 - acc: 0.9934 - val_loss: 0.0651 - val_acc: 1.0000\n",
            "Epoch 8/50\n",
            "272/272 [==============================] - 6s 23ms/step - loss: 0.0615 - acc: 0.9949 - val_loss: 0.1265 - val_acc: 0.9824\n",
            "\n",
            "Epoch 00008: ReduceLROnPlateau reducing learning rate to 0.0002500000118743628.\n",
            "Epoch 9/50\n",
            "272/272 [==============================] - 6s 23ms/step - loss: 0.0515 - acc: 0.9959 - val_loss: 0.0455 - val_acc: 1.0000\n",
            "Epoch 10/50\n",
            "272/272 [==============================] - 6s 23ms/step - loss: 0.0404 - acc: 0.9980 - val_loss: 0.1153 - val_acc: 0.9814\n",
            "\n",
            "Epoch 00010: ReduceLROnPlateau reducing learning rate to 0.0001250000059371814.\n",
            "Epoch 11/50\n",
            "272/272 [==============================] - 6s 23ms/step - loss: 0.0346 - acc: 0.9991 - val_loss: 0.0409 - val_acc: 1.0000\n",
            "Epoch 12/50\n",
            "272/272 [==============================] - 6s 23ms/step - loss: 0.0342 - acc: 0.9979 - val_loss: 0.0444 - val_acc: 1.0000\n",
            "\n",
            "Epoch 00012: ReduceLROnPlateau reducing learning rate to 6.25000029685907e-05.\n",
            "Epoch 13/50\n",
            "272/272 [==============================] - 6s 23ms/step - loss: 0.0326 - acc: 0.9984 - val_loss: 0.0331 - val_acc: 1.0000\n",
            "Epoch 14/50\n",
            "272/272 [==============================] - 6s 23ms/step - loss: 0.0301 - acc: 0.9994 - val_loss: 0.0469 - val_acc: 1.0000\n",
            "\n",
            "Epoch 00014: ReduceLROnPlateau reducing learning rate to 3.125000148429535e-05.\n",
            "Epoch 15/50\n",
            "272/272 [==============================] - 6s 23ms/step - loss: 0.0284 - acc: 0.9995 - val_loss: 0.0380 - val_acc: 1.0000\n",
            "Epoch 16/50\n",
            "272/272 [==============================] - 6s 23ms/step - loss: 0.0282 - acc: 0.9991 - val_loss: 0.0333 - val_acc: 1.0000\n",
            "\n",
            "Epoch 00016: ReduceLROnPlateau reducing learning rate to 1.5625000742147677e-05.\n",
            "Epoch 17/50\n",
            "272/272 [==============================] - 6s 23ms/step - loss: 0.0285 - acc: 0.9983 - val_loss: 0.0346 - val_acc: 1.0000\n",
            "Epoch 18/50\n",
            "272/272 [==============================] - 6s 24ms/step - loss: 0.0266 - acc: 0.9994 - val_loss: 0.0383 - val_acc: 1.0000\n",
            "\n",
            "Epoch 00018: ReduceLROnPlateau reducing learning rate to 1e-05.\n",
            "Epoch 1/50\n",
            "272/272 [==============================] - 7s 24ms/step - loss: 3.0801 - acc: 0.4454 - val_loss: 2.0552 - val_acc: 0.0620\n",
            "Epoch 2/50\n",
            "272/272 [==============================] - 6s 23ms/step - loss: 0.6726 - acc: 0.9562 - val_loss: 0.6176 - val_acc: 0.8521\n",
            "Epoch 3/50\n",
            "272/272 [==============================] - 6s 23ms/step - loss: 0.3086 - acc: 0.9768 - val_loss: 0.2983 - val_acc: 0.9452\n",
            "Epoch 4/50\n",
            "272/272 [==============================] - 6s 23ms/step - loss: 0.1968 - acc: 0.9747 - val_loss: 0.2831 - val_acc: 0.9193\n",
            "Epoch 5/50\n",
            "272/272 [==============================] - 6s 23ms/step - loss: 0.1331 - acc: 0.9862 - val_loss: 0.3200 - val_acc: 0.8883\n",
            "\n",
            "Epoch 00005: ReduceLROnPlateau reducing learning rate to 0.0005000000237487257.\n",
            "Epoch 6/50\n",
            "272/272 [==============================] - 6s 23ms/step - loss: 0.0902 - acc: 0.9938 - val_loss: 0.0839 - val_acc: 0.9938\n",
            "Epoch 7/50\n",
            "272/272 [==============================] - 6s 23ms/step - loss: 0.0720 - acc: 0.9938 - val_loss: 0.0936 - val_acc: 0.9897\n",
            "Epoch 8/50\n",
            "272/272 [==============================] - 6s 23ms/step - loss: 0.0655 - acc: 0.9925 - val_loss: 0.1218 - val_acc: 0.9783\n",
            "\n",
            "Epoch 00008: ReduceLROnPlateau reducing learning rate to 0.0002500000118743628.\n",
            "Epoch 9/50\n",
            "272/272 [==============================] - 6s 23ms/step - loss: 0.0495 - acc: 0.9971 - val_loss: 0.0740 - val_acc: 0.9876\n",
            "Epoch 10/50\n",
            "272/272 [==============================] - 6s 23ms/step - loss: 0.0436 - acc: 0.9979 - val_loss: 0.0732 - val_acc: 0.9938\n",
            "\n",
            "Epoch 00010: ReduceLROnPlateau reducing learning rate to 0.0001250000059371814.\n",
            "Epoch 11/50\n",
            "272/272 [==============================] - 6s 23ms/step - loss: 0.0404 - acc: 0.9969 - val_loss: 0.0400 - val_acc: 1.0000\n",
            "Epoch 12/50\n",
            "272/272 [==============================] - 6s 23ms/step - loss: 0.0355 - acc: 0.9985 - val_loss: 0.0361 - val_acc: 1.0000\n",
            "Epoch 13/50\n",
            "272/272 [==============================] - 6s 23ms/step - loss: 0.0343 - acc: 0.9974 - val_loss: 0.1333 - val_acc: 0.9679\n",
            "\n",
            "Epoch 00013: ReduceLROnPlateau reducing learning rate to 6.25000029685907e-05.\n",
            "Epoch 14/50\n",
            "272/272 [==============================] - 6s 23ms/step - loss: 0.0310 - acc: 0.9982 - val_loss: 0.0620 - val_acc: 0.9938\n",
            "Epoch 15/50\n",
            "272/272 [==============================] - 6s 23ms/step - loss: 0.0305 - acc: 0.9983 - val_loss: 0.0406 - val_acc: 0.9979\n",
            "\n",
            "Epoch 00015: ReduceLROnPlateau reducing learning rate to 3.125000148429535e-05.\n",
            "Epoch 16/50\n",
            "272/272 [==============================] - 6s 23ms/step - loss: 0.0298 - acc: 0.9988 - val_loss: 0.0667 - val_acc: 0.9917\n",
            "Epoch 17/50\n",
            "272/272 [==============================] - 6s 23ms/step - loss: 0.0290 - acc: 0.9985 - val_loss: 0.0478 - val_acc: 0.9948\n",
            "\n",
            "Epoch 00017: ReduceLROnPlateau reducing learning rate to 1.5625000742147677e-05.\n"
          ],
          "name": "stdout"
        }
      ]
    },
    {
      "cell_type": "code",
      "metadata": {
        "colab": {
          "base_uri": "https://localhost:8080/",
          "height": 279
        },
        "id": "CKKQKD5_zQFK",
        "outputId": "5a6dab4d-79c7-4655-ec7b-60bf943762e4"
      },
      "source": [
        "# train accuracy, loss\n",
        "\n",
        "fig, loss_ax = plt.subplots()\n",
        "acc_ax = loss_ax.twinx()\n",
        "\n",
        "loss_ax.plot(history.history['loss'], 'y', label='train loss')\n",
        "loss_ax.set_xlabel('epoch')\n",
        "loss_ax.set_ylabel('loss')\n",
        "\n",
        "acc_ax.plot(history.history['acc'], 'r', label='train acc')\n",
        "acc_ax.set_ylabel('accuracy')\n",
        "acc_ax.legend(loc='upper left')\n",
        "\n",
        "plt.show()"
      ],
      "execution_count": null,
      "outputs": [
        {
          "output_type": "display_data",
          "data": {
            "image/png": "[encoded data removed]",
            "text/plain": [
              "<Figure size 432x288 with 2 Axes>"
            ]
          },
          "metadata": {
            "tags": [],
            "needs_background": "light"
          }
        }
      ]
    },
    {
      "cell_type": "code",
      "metadata": {
        "colab": {
          "base_uri": "https://localhost:8080/",
          "height": 279
        },
        "id": "e_ZYD8p6s7Fs",
        "outputId": "e40ca0ce-a41f-47e3-ad38-3cd80aa06f0d"
      },
      "source": [
        "# validation accuracy, loss\n",
        "\n",
        "fig, loss_ax = plt.subplots()\n",
        "acc_ax = loss_ax.twinx()\n",
        "\n",
        "loss_ax.plot(history.history['val_loss'], 'b', label='val loss')\n",
        "loss_ax.set_xlabel('epoch')\n",
        "loss_ax.set_ylabel('loss')\n",
        "loss_ax.legend(loc='upper left')\n",
        "\n",
        "acc_ax.plot(history.history['val_acc'], 'g', label='val acc')\n",
        "acc_ax.set_ylabel('accuracy')\n",
        "acc_ax.legend(loc='upper left')\n",
        "\n",
        "plt.show()"
      ],
      "execution_count": null,
      "outputs": [
        {
          "output_type": "display_data",
          "data": {
            "image/png": "[encoded data removed]",
            "text/plain": [
              "<Figure size 432x288 with 2 Axes>"
            ]
          },
          "metadata": {
            "tags": [],
            "needs_background": "light"
          }
        }
      ]
    },
    {
      "cell_type": "code",
      "metadata": {
        "id": "dF4JCfvaHLqu",
        "colab": {
          "base_uri": "https://localhost:8080/"
        },
        "outputId": "d69cf4bb-9b67-4e31-b241-fabffc2e4e18"
      },
      "source": [
        "for i in range(len(all_accuracy)):\n",
        "  print('model ' + str(i+1))\n",
        "  print()\n",
        "  print('accuracy : %.4f, precision : %.4f, recall : %.4f, f1 : %.4f' % (all_accuracy[i], all_precision[i], all_recall[i], all_f1[i])) \n",
        "  print('-------------------------------------------------------------------------')"
      ],
      "execution_count": null,
      "outputs": [
        {
          "output_type": "stream",
          "text": [
            "model 1\n",
            "\n",
            "accuracy : 1.0000, precision : 1.0000, recall : 1.0000, f1 : 1.0000\n",
            "-------------------------------------------------------------------------\n",
            "model 2\n",
            "\n",
            "accuracy : 1.0000, precision : 1.0000, recall : 1.0000, f1 : 1.0000\n",
            "-------------------------------------------------------------------------\n",
            "model 3\n",
            "\n",
            "accuracy : 1.0000, precision : 1.0000, recall : 1.0000, f1 : 1.0000\n",
            "-------------------------------------------------------------------------\n",
            "model 4\n",
            "\n",
            "accuracy : 1.0000, precision : 1.0000, recall : 1.0000, f1 : 1.0000\n",
            "-------------------------------------------------------------------------\n",
            "model 5\n",
            "\n",
            "accuracy : 0.9996, precision : 0.9996, recall : 0.9996, f1 : 0.9996\n",
            "-------------------------------------------------------------------------\n"
          ],
          "name": "stdout"
        }
      ]
    },
    {
      "cell_type": "markdown",
      "metadata": {
        "id": "ezZs7xx2jGbm"
      },
      "source": [
        "## Test Dataset 예측"
      ]
    },
    {
      "cell_type": "code",
      "metadata": {
        "id": "in0BTPts_v7l"
      },
      "source": [
        "loaded = keras.models.load_model(\"/gdrive/My Drive/fingerprint_4.h5\")\n",
        "test_path = '/gdrive/My Drive/01_finger_test'\n",
        "test_file = []\n",
        "x_test_data = []\n",
        "width = 144\n",
        "height = 144\n",
        "\n",
        "for i in range(1,81):\n",
        "  test_file.append(str(i)+'.bmp')\n",
        "\n",
        "for file_name in test_file:\n",
        "    file_path = '{}/{}'.format(test_path, file_name)\n",
        "    image = Image.open(file_path).convert('L')\n",
        "    image = image.resize((width, height))\n",
        "    numpy_image = np.array(image) #이미지 타입을 넘파이 타입으로 변환\n",
        "    x_test_data.append(numpy_image/255.)\n",
        "\n",
        "x_test_data = np.array(x_test_data)\n",
        "x_test_data = x_test_data.reshape((80, 144, 144, 1))\n",
        "\n",
        "predictions = loaded.predict(x_test_data)\n",
        "\n",
        "y_pred = []\n",
        "\n",
        "for i in range(len(predictions)):\n",
        "  p = np.argmax(predictions[i])\n",
        "  y_pred.append(p+1)"
      ],
      "execution_count": null,
      "outputs": []
    },
    {
      "cell_type": "code",
      "metadata": {
        "colab": {
          "base_uri": "https://localhost:8080/",
          "height": 439
        },
        "id": "oaLrzR2TBJw3",
        "outputId": "d376c6c8-9ac3-465e-86ce-3e54c5b005f3"
      },
      "source": [
        "import pandas as pd\n",
        "\n",
        "plist = []\n",
        "print(y_pred)\n",
        "for i in range(1,81):\n",
        "  plist.append(i)\n",
        "\n",
        "columns = [\"Image\", \"Answer\"]\n",
        "pred_df = pd.DataFrame([x for x in zip(plist, y_pred)], columns=columns)\n",
        "pred_df"
      ],
      "execution_count": null,
      "outputs": [
        {
          "output_type": "stream",
          "text": [
            "[7, 1, 2, 6, 1, 2, 5, 6, 5, 3, 6, 2, 5, 2, 1, 6, 8, 5, 7, 3, 6, 1, 2, 8, 8, 7, 8, 5, 8, 5, 8, 1, 5, 2, 4, 7, 1, 3, 4, 6, 7, 4, 7, 6, 8, 2, 3, 3, 5, 8, 4, 4, 4, 4, 3, 2, 2, 5, 5, 8, 1, 1, 4, 7, 6, 3, 7, 3, 7, 4, 6, 3, 3, 6, 2, 1, 8, 1, 7, 4]\n"
          ],
          "name": "stdout"
        },
        {
          "output_type": "execute_result",
          "data": {
            "text/html": [
              "<div>\n",
              "<style scoped>\n",
              "    .dataframe tbody tr th:only-of-type {\n",
              "        vertical-align: middle;\n",
              "    }\n",
              "\n",
              "    .dataframe tbody tr th {\n",
              "        vertical-align: top;\n",
              "    }\n",
              "\n",
              "    .dataframe thead th {\n",
              "        text-align: right;\n",
              "    }\n",
              "</style>\n",
              "<table border=\"1\" class=\"dataframe\">\n",
              "  <thead>\n",
              "    <tr style=\"text-align: right;\">\n",
              "      <th></th>\n",
              "      <th>Image</th>\n",
              "      <th>Answer</th>\n",
              "    </tr>\n",
              "  </thead>\n",
              "  <tbody>\n",
              "    <tr>\n",
              "      <th>0</th>\n",
              "      <td>1</td>\n",
              "      <td>7</td>\n",
              "    </tr>\n",
              "    <tr>\n",
              "      <th>1</th>\n",
              "      <td>2</td>\n",
              "      <td>1</td>\n",
              "    </tr>\n",
              "    <tr>\n",
              "      <th>2</th>\n",
              "      <td>3</td>\n",
              "      <td>2</td>\n",
              "    </tr>\n",
              "    <tr>\n",
              "      <th>3</th>\n",
              "      <td>4</td>\n",
              "      <td>6</td>\n",
              "    </tr>\n",
              "    <tr>\n",
              "      <th>4</th>\n",
              "      <td>5</td>\n",
              "      <td>1</td>\n",
              "    </tr>\n",
              "    <tr>\n",
              "      <th>...</th>\n",
              "      <td>...</td>\n",
              "      <td>...</td>\n",
              "    </tr>\n",
              "    <tr>\n",
              "      <th>75</th>\n",
              "      <td>76</td>\n",
              "      <td>1</td>\n",
              "    </tr>\n",
              "    <tr>\n",
              "      <th>76</th>\n",
              "      <td>77</td>\n",
              "      <td>8</td>\n",
              "    </tr>\n",
              "    <tr>\n",
              "      <th>77</th>\n",
              "      <td>78</td>\n",
              "      <td>1</td>\n",
              "    </tr>\n",
              "    <tr>\n",
              "      <th>78</th>\n",
              "      <td>79</td>\n",
              "      <td>7</td>\n",
              "    </tr>\n",
              "    <tr>\n",
              "      <th>79</th>\n",
              "      <td>80</td>\n",
              "      <td>4</td>\n",
              "    </tr>\n",
              "  </tbody>\n",
              "</table>\n",
              "<p>80 rows × 2 columns</p>\n",
              "</div>"
            ],
            "text/plain": [
              "    Image  Answer\n",
              "0       1       7\n",
              "1       2       1\n",
              "2       3       2\n",
              "3       4       6\n",
              "4       5       1\n",
              "..    ...     ...\n",
              "75     76       1\n",
              "76     77       8\n",
              "77     78       1\n",
              "78     79       7\n",
              "79     80       4\n",
              "\n",
              "[80 rows x 2 columns]"
            ]
          },
          "metadata": {
            "tags": []
          },
          "execution_count": 47
        }
      ]
    },
    {
      "cell_type": "code",
      "metadata": {
        "id": "tWADCQbeBJvI"
      },
      "source": [
        ""
      ],
      "execution_count": null,
      "outputs": []
    },
    {
      "cell_type": "code",
      "metadata": {
        "id": "zMoshEp5Oen9"
      },
      "source": [
        ""
      ],
      "execution_count": null,
      "outputs": []
    }
  ]
}